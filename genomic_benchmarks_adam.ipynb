{
  "nbformat": 4,
  "nbformat_minor": 0,
  "metadata": {
    "colab": {
      "name": "genomic_benchmarks_adam.ipynb",
      "provenance": [],
      "authorship_tag": "ABX9TyNIoWzD7eptubd8Kgwmqrkr",
      "include_colab_link": true
    },
    "kernelspec": {
      "name": "python3",
      "display_name": "Python 3"
    },
    "language_info": {
      "name": "python"
    }
  },
  "cells": [
    {
      "cell_type": "markdown",
      "metadata": {
        "id": "view-in-github",
        "colab_type": "text"
      },
      "source": [
        "<a href=\"https://colab.research.google.com/github/vandislav/data_science_practicum/blob/main/genomic_benchmarks_adam.ipynb\" target=\"_parent\"><img src=\"https://colab.research.google.com/assets/colab-badge.svg\" alt=\"Open In Colab\"/></a>"
      ]
    },
    {
      "cell_type": "code",
      "metadata": {
        "id": "9ThDHVLiurDe"
      },
      "source": [
        "!pip install -qq tensorflow_addons genomic-benchmarks\n",
        "\n",
        "import tensorflow as tf\n",
        "import numpy as np \n",
        "\n",
        "from pathlib import Path\n",
        "from genomic_benchmarks.loc2seq import download_dataset\n",
        "from genomic_benchmarks.data_check import is_downloaded, info\n",
        "from genomic_benchmarks.models.tf import vectorize_layer, binary_f1_score\n",
        "from genomic_benchmarks.models.tf import basic_cnn_model_v0 as model\n",
        "\n",
        "from tensorflow.keras.models import Sequential\n"
      ],
      "execution_count": 37,
      "outputs": []
    },
    {
      "cell_type": "code",
      "metadata": {
        "colab": {
          "base_uri": "https://localhost:8080/"
        },
        "id": "8eIGf4iBvUto",
        "outputId": "a8dca3e5-c548-4d8f-a0bc-ef6980de054e"
      },
      "source": [
        "from genomic_benchmarks.data_check import list_datasets\n",
        " \n",
        "list_datasets()"
      ],
      "execution_count": 38,
      "outputs": [
        {
          "output_type": "execute_result",
          "data": {
            "text/plain": [
              "['demo_mouse_enhancers',\n",
              " 'human_nontata_promoters',\n",
              " 'demo_coding_vs_intergenomic_seqs',\n",
              " 'human_enhancers_cohn',\n",
              " 'demo_human_or_worm',\n",
              " 'human_enhancers_ensembl']"
            ]
          },
          "metadata": {},
          "execution_count": 38
        }
      ]
    },
    {
      "cell_type": "code",
      "metadata": {
        "colab": {
          "base_uri": "https://localhost:8080/",
          "height": 254
        },
        "id": "pYWi68rGvegi",
        "outputId": "05a02549-00a1-49e1-b2fe-70545487edfd"
      },
      "source": [
        "from genomic_benchmarks.data_check import info\n",
        "info('human_nontata_promoters')"
      ],
      "execution_count": 39,
      "outputs": [
        {
          "output_type": "stream",
          "name": "stderr",
          "text": [
            "/usr/local/lib/python3.7/dist-packages/genomic_benchmarks/utils/datasets.py:50: UserWarning: No version specified. Using version 0.\n",
            "  warnings.warn(f\"No version specified. Using version {metadata['version']}.\")\n"
          ]
        },
        {
          "output_type": "stream",
          "name": "stdout",
          "text": [
            "Dataset `human_nontata_promoters` has 2 classes: negative, positive.\n",
            "\n",
            "All lenghts of genomic intervals equals 251.\n",
            "\n",
            "Totally 36131 sequences have been found, 27097 for training and 9034 for testing.\n"
          ]
        },
        {
          "output_type": "execute_result",
          "data": {
            "text/html": [
              "<div>\n",
              "<style scoped>\n",
              "    .dataframe tbody tr th:only-of-type {\n",
              "        vertical-align: middle;\n",
              "    }\n",
              "\n",
              "    .dataframe tbody tr th {\n",
              "        vertical-align: top;\n",
              "    }\n",
              "\n",
              "    .dataframe thead th {\n",
              "        text-align: right;\n",
              "    }\n",
              "</style>\n",
              "<table border=\"1\" class=\"dataframe\">\n",
              "  <thead>\n",
              "    <tr style=\"text-align: right;\">\n",
              "      <th></th>\n",
              "      <th>train</th>\n",
              "      <th>test</th>\n",
              "    </tr>\n",
              "  </thead>\n",
              "  <tbody>\n",
              "    <tr>\n",
              "      <th>negative</th>\n",
              "      <td>12355</td>\n",
              "      <td>4119</td>\n",
              "    </tr>\n",
              "    <tr>\n",
              "      <th>positive</th>\n",
              "      <td>14742</td>\n",
              "      <td>4915</td>\n",
              "    </tr>\n",
              "  </tbody>\n",
              "</table>\n",
              "</div>"
            ],
            "text/plain": [
              "          train  test\n",
              "negative  12355  4119\n",
              "positive  14742  4915"
            ]
          },
          "metadata": {},
          "execution_count": 39
        }
      ]
    },
    {
      "cell_type": "code",
      "metadata": {
        "id": "axvmFZqmxUJf"
      },
      "source": [
        ""
      ],
      "execution_count": 39,
      "outputs": []
    },
    {
      "cell_type": "code",
      "metadata": {
        "colab": {
          "base_uri": "https://localhost:8080/"
        },
        "id": "bu2et6ZqwDn6",
        "outputId": "881feebb-b857-4e49-fefa-ff240c49e980"
      },
      "source": [
        "BATCH_SIZE = 32\n",
        "SEQ_TRAIN_PATH = Path.home() / '.genomic_benchmarks' / 'human_nontata_promoters' / 'train'\n",
        "CLASSES = ['negative', 'positive']\n",
        "train_dset = tf.keras.preprocessing.text_dataset_from_directory(\n",
        "     directory=SEQ_TRAIN_PATH,\n",
        "     batch_size=BATCH_SIZE,\n",
        "     class_names=CLASSES)\n",
        "\n",
        "list(train_dset)[0][0][0]"
      ],
      "execution_count": 67,
      "outputs": [
        {
          "output_type": "stream",
          "name": "stdout",
          "text": [
            "Found 27097 files belonging to 2 classes.\n"
          ]
        },
        {
          "output_type": "execute_result",
          "data": {
            "text/plain": [
              "<tf.Tensor: shape=(), dtype=string, numpy=b'CCGCCCCCCGCCGCGCCCCGCCCCCCGCGCCGCGCCCCGCCCCCCGCCGCGCCCCTCCCGCGCCCGCCGCCCCGCCCCTCCCGCGCCCGCCGCCGTCGTAGCGCCTAGGCGGGGCCTCTCGTAGCGACGCCCCCAGGGGGGCAGAACGCGTGCGCACGCGCGTGCGAACGCGCGTGCGCGGGCGGTGTTTGAGGCCGGCCAGTCGTGACTGGGCGGCAATGAGGTCAGTGACTGCCGGGAGTCCTGCAGGG'>"
            ]
          },
          "metadata": {},
          "execution_count": 67
        }
      ]
    },
    {
      "cell_type": "code",
      "metadata": {
        "colab": {
          "base_uri": "https://localhost:8080/"
        },
        "id": "RxIcVntCvxWX",
        "outputId": "32a87022-df06-4049-f7a3-004cf072eca7"
      },
      "source": [
        "vectorize_layer.adapt(train_dset.map(lambda x, y: x))\n",
        "#vectorize_layer.set_vocabulary(vocabulary=np.asarray(['a', 'c', 't', 'g', 'n']))\n",
        "vectorize_layer.get_vocabulary()"
      ],
      "execution_count": 69,
      "outputs": [
        {
          "output_type": "execute_result",
          "data": {
            "text/plain": [
              "['', '[UNK]', 'g', 'c', 't', 'a']"
            ]
          },
          "metadata": {},
          "execution_count": 69
        }
      ]
    },
    {
      "cell_type": "code",
      "metadata": {
        "id": "7oRBWR2V4PBE"
      },
      "source": [
        "def vectorize_text(text, label):\n",
        "  text = tf.expand_dims(text, -1)\n",
        "  return vectorize_layer(text)-2, label\n",
        "\n",
        "train_ds = train_dset.map(vectorize_text)"
      ],
      "execution_count": 70,
      "outputs": []
    },
    {
      "cell_type": "code",
      "metadata": {
        "id": "E7l9OABVxgIC"
      },
      "source": [
        "model.compile(loss=tf.keras.losses.BinaryCrossentropy(from_logits=True),\n",
        "              optimizer=tf.keras.optimizers.Nadam(),\n",
        "              metrics=[tf.metrics.BinaryAccuracy(threshold=0.0), binary_f1_score])"
      ],
      "execution_count": 84,
      "outputs": []
    },
    {
      "cell_type": "code",
      "metadata": {
        "colab": {
          "base_uri": "https://localhost:8080/"
        },
        "id": "xE9cLXoJywJH",
        "outputId": "63d21987-b917-4603-a850-f5e49f8dd35e"
      },
      "source": [
        "EPOCHS = 10\n",
        "\n",
        "history = model.fit(\n",
        "    train_ds,\n",
        "    epochs=EPOCHS)"
      ],
      "execution_count": 85,
      "outputs": [
        {
          "output_type": "stream",
          "name": "stdout",
          "text": [
            "Epoch 1/10\n",
            "847/847 [==============================] - 25s 28ms/step - loss: 0.3846 - binary_accuracy: 0.8304 - f1_score: 0.8116\n",
            "Epoch 2/10\n",
            "847/847 [==============================] - 23s 27ms/step - loss: 0.3098 - binary_accuracy: 0.8655 - f1_score: 0.8603\n",
            "Epoch 3/10\n",
            "847/847 [==============================] - 24s 28ms/step - loss: 0.2854 - binary_accuracy: 0.8748 - f1_score: 0.8733\n",
            "Epoch 4/10\n",
            "847/847 [==============================] - 24s 28ms/step - loss: 0.2706 - binary_accuracy: 0.8826 - f1_score: 0.8807\n",
            "Epoch 5/10\n",
            "847/847 [==============================] - 23s 27ms/step - loss: 0.2597 - binary_accuracy: 0.8878 - f1_score: 0.8873\n",
            "Epoch 6/10\n",
            "847/847 [==============================] - 23s 28ms/step - loss: 0.2473 - binary_accuracy: 0.8972 - f1_score: 0.8946\n",
            "Epoch 7/10\n",
            "847/847 [==============================] - 22s 25ms/step - loss: 0.2433 - binary_accuracy: 0.8988 - f1_score: 0.8979\n",
            "Epoch 8/10\n",
            "847/847 [==============================] - 22s 26ms/step - loss: 0.2343 - binary_accuracy: 0.9014 - f1_score: 0.9029\n",
            "Epoch 9/10\n",
            "847/847 [==============================] - 22s 26ms/step - loss: 0.2254 - binary_accuracy: 0.9072 - f1_score: 0.9071\n",
            "Epoch 10/10\n",
            "847/847 [==============================] - 23s 27ms/step - loss: 0.2209 - binary_accuracy: 0.9091 - f1_score: 0.9074\n"
          ]
        }
      ]
    },
    {
      "cell_type": "code",
      "metadata": {
        "id": "axamRapoISu3",
        "outputId": "5d8c7475-02a5-4602-b52a-352e34d02fe0",
        "colab": {
          "base_uri": "https://localhost:8080/"
        }
      },
      "source": [
        "SEQ_TEST_PATH = Path.home() / '.genomic_benchmarks' / 'human_nontata_promoters' / 'test'\n",
        "CLASSES = ['negative', 'positive']\n",
        "test_dset = tf.keras.preprocessing.text_dataset_from_directory(\n",
        "     directory=SEQ_TEST_PATH,\n",
        "     batch_size=BATCH_SIZE,\n",
        "     class_names=CLASSES)\n",
        "\n",
        "test_ds = test_dset.map(vectorize_text)"
      ],
      "execution_count": 86,
      "outputs": [
        {
          "output_type": "stream",
          "name": "stdout",
          "text": [
            "Found 9034 files belonging to 2 classes.\n"
          ]
        }
      ]
    },
    {
      "cell_type": "code",
      "metadata": {
        "id": "GB9pR3sxI7Vq",
        "outputId": "ff795e11-dbab-46b7-aecf-547c7a086409",
        "colab": {
          "base_uri": "https://localhost:8080/"
        }
      },
      "source": [
        "model.evaluate(test_ds)"
      ],
      "execution_count": 87,
      "outputs": [
        {
          "output_type": "stream",
          "name": "stdout",
          "text": [
            "283/283 [==============================] - 4s 11ms/step - loss: 0.3285 - binary_accuracy: 0.8627 - f1_score: 0.8733\n"
          ]
        },
        {
          "output_type": "execute_result",
          "data": {
            "text/plain": [
              "[0.3284582197666168, 0.8627407550811768, 0.8733079433441162]"
            ]
          },
          "metadata": {},
          "execution_count": 87
        }
      ]
    }
  ]
}